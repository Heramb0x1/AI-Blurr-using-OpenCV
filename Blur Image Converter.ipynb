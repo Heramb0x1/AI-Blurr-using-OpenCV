{
 "cells": [
  {
   "cell_type": "code",
   "execution_count": null,
   "id": "1cab9dfb",
   "metadata": {},
   "outputs": [],
   "source": [
    "Made By @Heramb.0x1\n",
    "DMs are Open  : https://www.linkedin.com/in/heramb0x1/"
   ]
  },
  {
   "cell_type": "code",
   "execution_count": 1,
   "id": "af89aab0",
   "metadata": {},
   "outputs": [],
   "source": [
    "import cv2 \n",
    "import numpy as np"
   ]
  },
  {
   "cell_type": "code",
   "execution_count": 2,
   "id": "ee42cf3a",
   "metadata": {},
   "outputs": [
    {
     "name": "stdout",
     "output_type": "stream",
     "text": [
      "Requirement already satisfied: opencv-python in c:\\users\\3162f\\appdata\\roaming\\python\\python311\\site-packages (4.8.1.78)\n",
      "Requirement already satisfied: numpy>=1.21.2 in c:\\users\\3162f\\anaconda3\\lib\\site-packages (from opencv-python) (1.24.3)\n"
     ]
    }
   ],
   "source": [
    "!pip install opencv-python"
   ]
  },
  {
   "cell_type": "code",
   "execution_count": 3,
   "id": "37190b0a",
   "metadata": {},
   "outputs": [
    {
     "name": "stdout",
     "output_type": "stream",
     "text": [
      "Requirement already satisfied: opencv-python in c:\\users\\3162f\\appdata\\roaming\\python\\python311\\site-packages (4.8.1.78)\n",
      "Requirement already satisfied: numpy>=1.21.2 in c:\\users\\3162f\\anaconda3\\lib\\site-packages (from opencv-python) (1.24.3)\n"
     ]
    }
   ],
   "source": [
    "!pip install opencv-python --user"
   ]
  },
  {
   "cell_type": "code",
   "execution_count": 4,
   "id": "0d840833",
   "metadata": {},
   "outputs": [],
   "source": [
    "img = cv2.imread(\"D:\\OpenCV (CV-Computer Vision) Project\\Happy Boy.png\")"
   ]
  },
  {
   "cell_type": "code",
   "execution_count": 5,
   "id": "7db8cb14",
   "metadata": {},
   "outputs": [
    {
     "name": "stdout",
     "output_type": "stream",
     "text": [
      "[[0.04 0.04 0.04 0.04 0.04]\n",
      " [0.04 0.04 0.04 0.04 0.04]\n",
      " [0.04 0.04 0.04 0.04 0.04]\n",
      " [0.04 0.04 0.04 0.04 0.04]\n",
      " [0.04 0.04 0.04 0.04 0.04]]\n"
     ]
    }
   ],
   "source": [
    "# Blur using Filter2D\n",
    "kernel = np.ones((5,5), np.float32) / 25\n",
    "print(kernel)\n"
   ]
  },
  {
   "cell_type": "code",
   "execution_count": 6,
   "id": "9eaf854a",
   "metadata": {},
   "outputs": [],
   "source": [
    "# Filter2D\n",
    "smoothed = cv2.filter2D(img, -1, kernel)\n",
    "\n",
    "# Average Blur\n",
    "img_blur = cv2.blur(img, (5,5))\n",
    "\n",
    "# Median Blur\n",
    "m_blur = cv2.medianBlur(img, 7)\n",
    "\n",
    "# Gaussian Blur, sigmaX(stdDev)= 1\n",
    "g_blur = cv2.GaussianBlur(img, (7,7), 1)\n",
    "\n",
    "cv2.imshow('Original', img)\n",
    "cv2.imshow('Blur', smoothed)\n",
    "cv2.imshow('average', img_blur)\n",
    "cv2.imshow('median', m_blur)\n",
    "cv2.imshow('gaussian', g_blur)\n",
    "\n",
    "# press any key with 0 wait time\n",
    "cv2.waitKey(0)\n",
    "# Close all imageframe\n",
    "cv2.destroyAllWindows()"
   ]
  },
  {
   "cell_type": "code",
   "execution_count": null,
   "id": "83d8472f",
   "metadata": {},
   "outputs": [],
   "source": []
  }
 ],
 "metadata": {
  "kernelspec": {
   "display_name": "Python 3 (ipykernel)",
   "language": "python",
   "name": "python3"
  },
  "language_info": {
   "codemirror_mode": {
    "name": "ipython",
    "version": 3
   },
   "file_extension": ".py",
   "mimetype": "text/x-python",
   "name": "python",
   "nbconvert_exporter": "python",
   "pygments_lexer": "ipython3",
   "version": "3.11.5"
  }
 },
 "nbformat": 4,
 "nbformat_minor": 5
}
